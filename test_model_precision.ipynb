{
 "cells": [
  {
   "cell_type": "code",
   "execution_count": 1,
   "metadata": {},
   "outputs": [],
   "source": [
    "from src.data.evaluation import ocr_metrics\n",
    "from src.data.generator import DataGenerator\n",
    "from src.network.model import HTRModel\n",
    "from rest.clients import groq_client "
   ]
  },
  {
   "cell_type": "code",
   "execution_count": 2,
   "metadata": {},
   "outputs": [],
   "source": [
    "from dotenv import load_dotenv\n",
    "import os\n",
    "load_dotenv()\n",
    "\n",
    "GROQ_API_KEYS=os.getenv(\"GROQ_API_KEYS\", \"[]\")\n",
    "GROQ_API_KEYS = [key.removeprefix('\"').removesuffix('\"') for key in GROQ_API_KEYS.removeprefix('[').removesuffix(']').split(\",\")]\n",
    "GROQ_MODEL=os.getenv(\"GROQ_MODEL\", \"llama3-8b-8192\")\n",
    "FUEL_SHOT_SIZE=int(os.getenv(\"FUEL_SHOT_SIZE\", \"50\"))"
   ]
  },
  {
   "cell_type": "code",
   "execution_count": 3,
   "metadata": {},
   "outputs": [],
   "source": [
    "source_path=\"./data/mine_logs.hdf5\"\n",
    "batch_size=16\n",
    "charset_base=\"\"\"0123456789abcdefghijklmnopqrstuvwxyzABCDEFGHIJKLMNOPQRSTUVWXYZ!\"#$%&'()*+,-./:;<=>?@[\\]^_`{|}~ ČčĆćĐđŽžŠš\"\"\"\n",
    "max_text_length=256\n",
    "predict=True\n",
    "architecture=\"flor\"\n",
    "input_size=(1024, 128, 1)\n",
    "vocab_size=110\n",
    "beam_width=30\n",
    "reduce_tolerance=20\n",
    "stop_tolerance=30\n",
    "target_path=\"./ml_models/text_detection_model.hdf5\""
   ]
  },
  {
   "cell_type": "code",
   "execution_count": 4,
   "metadata": {},
   "outputs": [],
   "source": [
    "dtgen = DataGenerator(source=source_path,\n",
    "                              batch_size=batch_size,\n",
    "                              charset=charset_base,\n",
    "                              max_text_length=max_text_length,\n",
    "                              predict=True)\n",
    "\n",
    "model = HTRModel(architecture=architecture,\n",
    "                         input_size=input_size,\n",
    "                         vocab_size=dtgen.tokenizer.vocab_size,\n",
    "                         beam_width=30,\n",
    "                         top_paths=10,\n",
    "                         )\n",
    "\n",
    "client = groq_client.GroqClient(GROQ_MODEL, GROQ_API_KEYS, FUEL_SHOT_SIZE)\n",
    "\n",
    "\n",
    "model.compile(learning_rate=0.001)\n",
    "model.load_checkpoint(target=target_path)"
   ]
  },
  {
   "cell_type": "code",
   "execution_count": 5,
   "metadata": {},
   "outputs": [],
   "source": [
    "import datetime\n",
    "import asyncio\n",
    "\n",
    "async def test(ds=\"test\", use_llm=False):\n",
    "    \"\"\"\n",
    "    ds: vals \"test\", \"valid\", \"train\"\n",
    "    \"\"\"\n",
    "    start_time = datetime.datetime.now()\n",
    "\n",
    "    predicts, _ = model.predict(x=dtgen.next_test_batch(),\n",
    "                                steps=dtgen.steps[ds],\n",
    "                                ctc_decode=True,\n",
    "                                verbose=1)\n",
    "    predicts = [dtgen.tokenizer.decode(x[0]) for x in predicts]\n",
    "    ground_truth = [x.decode() for x in dtgen.dataset[ds]['gt']]\n",
    "    \n",
    "    if use_llm:\n",
    "        predicts = [client.correct_extraction(txt) for txt in predicts]\n",
    "        predicts = await asyncio.gather(*predicts)\n",
    "\n",
    "    \n",
    "    total_time = datetime.datetime.now() - start_time\n",
    "    evaluate = ocr_metrics(predicts=predicts, ground_truth=ground_truth)\n",
    "\n",
    "    e_corpus = \"\\n\".join([\n",
    "        f\"Total test images:    {dtgen.size[ds]}\",\n",
    "        f\"Total time:           {total_time}\",\n",
    "        f\"Time per item:        {total_time / dtgen.size[ds]}\\n\",\n",
    "        \"Metrics:\",\n",
    "        f\"Character Error Rate: {evaluate[0]:.8f}\",\n",
    "        f\"Word Error Rate:      {evaluate[1]:.8f}\",\n",
    "        f\"Sequence Error Rate:  {evaluate[2]:.8f}\"\n",
    "    ])\n",
    "    print(e_corpus)"
   ]
  },
  {
   "cell_type": "code",
   "execution_count": 6,
   "metadata": {},
   "outputs": [
    {
     "name": "stdout",
     "output_type": "stream",
     "text": [
      "Model Predict\n",
      "7/7 [==============================] - 4s 395ms/step\n",
      "CTC Decode\n",
      "7/7 [==============================] - 5s 639ms/step\n",
      "Total test images:    111\n",
      "Total time:           0:00:08.858345\n",
      "Time per item:        0:00:00.079805\n",
      "\n",
      "Metrics:\n",
      "Character Error Rate: 0.14501020\n",
      "Word Error Rate:      0.34817858\n",
      "Sequence Error Rate:  0.66666667\n"
     ]
    }
   ],
   "source": [
    "await test()"
   ]
  },
  {
   "cell_type": "code",
   "execution_count": 8,
   "metadata": {},
   "outputs": [
    {
     "name": "stdout",
     "output_type": "stream",
     "text": [
      "Model Predict\n",
      "7/7 [==============================] - 3s 399ms/step\n",
      "CTC Decode\n",
      "7/7 [==============================] - 4s 620ms/step\n",
      "To many requests made, returning unaltered data\n",
      "To many requests made, returning unaltered data\n",
      "To many requests made, returning unaltered data\n",
      "To many requests made, returning unaltered data\n",
      "To many requests made, returning unaltered data\n",
      "To many requests made, returning unaltered data\n",
      "To many requests made, returning unaltered data\n",
      "To many requests made, returning unaltered data\n",
      "To many requests made, returning unaltered data\n",
      "To many requests made, returning unaltered data\n",
      "To many requests made, returning unaltered data\n",
      "To many requests made, returning unaltered data\n",
      "To many requests made, returning unaltered data\n",
      "To many requests made, returning unaltered data\n",
      "To many requests made, returning unaltered data\n",
      "To many requests made, returning unaltered data\n",
      "To many requests made, returning unaltered data\n",
      "To many requests made, returning unaltered data\n",
      "To many requests made, returning unaltered data\n",
      "To many requests made, returning unaltered data\n",
      "To many requests made, returning unaltered data\n",
      "To many requests made, returning unaltered data\n",
      "To many requests made, returning unaltered data\n",
      "To many requests made, returning unaltered data\n",
      "To many requests made, returning unaltered data\n",
      "To many requests made, returning unaltered data\n",
      "To many requests made, returning unaltered data\n",
      "To many requests made, returning unaltered data\n",
      "To many requests made, returning unaltered data\n",
      "Total test images:    111\n",
      "Total time:           0:03:43.904337\n",
      "Time per item:        0:00:02.017156\n",
      "\n",
      "Metrics:\n",
      "Character Error Rate: 0.20833955\n",
      "Word Error Rate:      0.38013582\n",
      "Sequence Error Rate:  0.64864865\n"
     ]
    }
   ],
   "source": [
    "await test(use_llm=True)"
   ]
  }
 ],
 "metadata": {
  "kernelspec": {
   "display_name": "venv",
   "language": "python",
   "name": "python3"
  },
  "language_info": {
   "codemirror_mode": {
    "name": "ipython",
    "version": 3
   },
   "file_extension": ".py",
   "mimetype": "text/x-python",
   "name": "python",
   "nbconvert_exporter": "python",
   "pygments_lexer": "ipython3",
   "version": "3.10.11"
  }
 },
 "nbformat": 4,
 "nbformat_minor": 2
}
